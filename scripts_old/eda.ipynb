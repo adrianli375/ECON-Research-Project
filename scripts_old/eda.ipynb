{
 "cells": [
  {
   "cell_type": "markdown",
   "metadata": {},
   "source": [
    "# Imports"
   ]
  },
  {
   "cell_type": "code",
   "execution_count": 1,
   "metadata": {},
   "outputs": [],
   "source": [
    "import pandas as pd\n",
    "from sklearn.decomposition import PCA\n",
    "from sklearn.dummy import DummyClassifier\n",
    "from sklearn.ensemble import GradientBoostingClassifier, RandomForestClassifier\n",
    "from sklearn.linear_model import LogisticRegressionCV\n",
    "from sklearn.metrics import accuracy_score, balanced_accuracy_score, confusion_matrix, roc_auc_score\n",
    "from sklearn.model_selection import train_test_split, RandomizedSearchCV\n",
    "from sklearn.pipeline import make_pipeline\n",
    "from sklearn.preprocessing import StandardScaler\n",
    "\n",
    "RANDOM_STATE = 4200"
   ]
  },
  {
   "cell_type": "markdown",
   "metadata": {},
   "source": [
    "## Read the dataset"
   ]
  },
  {
   "cell_type": "code",
   "execution_count": 6,
   "metadata": {},
   "outputs": [],
   "source": [
    "df = pd.read_csv('../HKO-Weather-Data-Interpolated.csv')"
   ]
  },
  {
   "cell_type": "code",
   "execution_count": 7,
   "metadata": {},
   "outputs": [
    {
     "data": {
      "text/html": [
       "<div>\n",
       "<style scoped>\n",
       "    .dataframe tbody tr th:only-of-type {\n",
       "        vertical-align: middle;\n",
       "    }\n",
       "\n",
       "    .dataframe tbody tr th {\n",
       "        vertical-align: top;\n",
       "    }\n",
       "\n",
       "    .dataframe thead th {\n",
       "        text-align: right;\n",
       "    }\n",
       "</style>\n",
       "<table border=\"1\" class=\"dataframe\">\n",
       "  <thead>\n",
       "    <tr style=\"text-align: right;\">\n",
       "      <th></th>\n",
       "      <th>Year</th>\n",
       "      <th>Month</th>\n",
       "      <th>Day</th>\n",
       "      <th>MeanCloudAmount</th>\n",
       "      <th>MeanPressure</th>\n",
       "      <th>TotalEvaporation</th>\n",
       "      <th>TotalRainfall</th>\n",
       "      <th>MeanHumidity</th>\n",
       "      <th>MinTemperature</th>\n",
       "      <th>MeanTemperature</th>\n",
       "      <th>MaxTemperature</th>\n",
       "      <th>MeanUVIndex</th>\n",
       "      <th>TotalSunshine</th>\n",
       "      <th>MeanWindSpeed</th>\n",
       "      <th>IsExtreme</th>\n",
       "    </tr>\n",
       "  </thead>\n",
       "  <tbody>\n",
       "    <tr>\n",
       "      <th>count</th>\n",
       "      <td>8766.000000</td>\n",
       "      <td>8766.00000</td>\n",
       "      <td>8766.000000</td>\n",
       "      <td>8766.000000</td>\n",
       "      <td>8766.000000</td>\n",
       "      <td>8766.000000</td>\n",
       "      <td>8766.000000</td>\n",
       "      <td>8766.000000</td>\n",
       "      <td>8766.000000</td>\n",
       "      <td>8766.000000</td>\n",
       "      <td>8766.000000</td>\n",
       "      <td>8766.000000</td>\n",
       "      <td>8766.000000</td>\n",
       "      <td>8766.000000</td>\n",
       "      <td>8766.000000</td>\n",
       "    </tr>\n",
       "    <tr>\n",
       "      <th>mean</th>\n",
       "      <td>2011.498973</td>\n",
       "      <td>6.52293</td>\n",
       "      <td>15.729637</td>\n",
       "      <td>68.280972</td>\n",
       "      <td>1012.820135</td>\n",
       "      <td>3.349139</td>\n",
       "      <td>5.552932</td>\n",
       "      <td>78.080995</td>\n",
       "      <td>19.558191</td>\n",
       "      <td>22.884645</td>\n",
       "      <td>27.226586</td>\n",
       "      <td>2.880966</td>\n",
       "      <td>5.126717</td>\n",
       "      <td>7.180259</td>\n",
       "      <td>0.058293</td>\n",
       "    </tr>\n",
       "    <tr>\n",
       "      <th>std</th>\n",
       "      <td>6.922631</td>\n",
       "      <td>3.44890</td>\n",
       "      <td>8.800594</td>\n",
       "      <td>23.598280</td>\n",
       "      <td>6.618001</td>\n",
       "      <td>1.654657</td>\n",
       "      <td>18.054127</td>\n",
       "      <td>10.673137</td>\n",
       "      <td>5.879555</td>\n",
       "      <td>5.482770</td>\n",
       "      <td>5.682727</td>\n",
       "      <td>1.528562</td>\n",
       "      <td>3.881934</td>\n",
       "      <td>3.248124</td>\n",
       "      <td>0.234311</td>\n",
       "    </tr>\n",
       "    <tr>\n",
       "      <th>min</th>\n",
       "      <td>2000.000000</td>\n",
       "      <td>1.00000</td>\n",
       "      <td>1.000000</td>\n",
       "      <td>0.000000</td>\n",
       "      <td>985.600000</td>\n",
       "      <td>0.000000</td>\n",
       "      <td>0.000000</td>\n",
       "      <td>21.000000</td>\n",
       "      <td>-0.900000</td>\n",
       "      <td>3.600000</td>\n",
       "      <td>5.300000</td>\n",
       "      <td>0.100000</td>\n",
       "      <td>0.000000</td>\n",
       "      <td>0.700000</td>\n",
       "      <td>0.000000</td>\n",
       "    </tr>\n",
       "    <tr>\n",
       "      <th>25%</th>\n",
       "      <td>2005.250000</td>\n",
       "      <td>4.00000</td>\n",
       "      <td>8.000000</td>\n",
       "      <td>54.000000</td>\n",
       "      <td>1007.800000</td>\n",
       "      <td>2.200000</td>\n",
       "      <td>0.000000</td>\n",
       "      <td>73.000000</td>\n",
       "      <td>15.500000</td>\n",
       "      <td>18.800000</td>\n",
       "      <td>23.400000</td>\n",
       "      <td>2.000000</td>\n",
       "      <td>1.000000</td>\n",
       "      <td>4.800000</td>\n",
       "      <td>0.000000</td>\n",
       "    </tr>\n",
       "    <tr>\n",
       "      <th>50%</th>\n",
       "      <td>2011.500000</td>\n",
       "      <td>7.00000</td>\n",
       "      <td>16.000000</td>\n",
       "      <td>78.000000</td>\n",
       "      <td>1012.700000</td>\n",
       "      <td>3.200000</td>\n",
       "      <td>0.000000</td>\n",
       "      <td>79.000000</td>\n",
       "      <td>21.100000</td>\n",
       "      <td>24.200000</td>\n",
       "      <td>28.200000</td>\n",
       "      <td>3.000000</td>\n",
       "      <td>5.200000</td>\n",
       "      <td>6.500000</td>\n",
       "      <td>0.000000</td>\n",
       "    </tr>\n",
       "    <tr>\n",
       "      <th>75%</th>\n",
       "      <td>2017.000000</td>\n",
       "      <td>10.00000</td>\n",
       "      <td>23.000000</td>\n",
       "      <td>87.000000</td>\n",
       "      <td>1017.900000</td>\n",
       "      <td>4.500000</td>\n",
       "      <td>1.500000</td>\n",
       "      <td>85.000000</td>\n",
       "      <td>24.600000</td>\n",
       "      <td>27.600000</td>\n",
       "      <td>31.900000</td>\n",
       "      <td>4.000000</td>\n",
       "      <td>8.900000</td>\n",
       "      <td>9.000000</td>\n",
       "      <td>0.000000</td>\n",
       "    </tr>\n",
       "    <tr>\n",
       "      <th>max</th>\n",
       "      <td>2023.000000</td>\n",
       "      <td>12.00000</td>\n",
       "      <td>31.000000</td>\n",
       "      <td>100.000000</td>\n",
       "      <td>1035.800000</td>\n",
       "      <td>11.800000</td>\n",
       "      <td>340.500000</td>\n",
       "      <td>99.000000</td>\n",
       "      <td>28.900000</td>\n",
       "      <td>32.300000</td>\n",
       "      <td>38.500000</td>\n",
       "      <td>7.000000</td>\n",
       "      <td>12.400000</td>\n",
       "      <td>31.700000</td>\n",
       "      <td>1.000000</td>\n",
       "    </tr>\n",
       "  </tbody>\n",
       "</table>\n",
       "</div>"
      ],
      "text/plain": [
       "              Year       Month          Day  MeanCloudAmount  MeanPressure  \\\n",
       "count  8766.000000  8766.00000  8766.000000      8766.000000   8766.000000   \n",
       "mean   2011.498973     6.52293    15.729637        68.280972   1012.820135   \n",
       "std       6.922631     3.44890     8.800594        23.598280      6.618001   \n",
       "min    2000.000000     1.00000     1.000000         0.000000    985.600000   \n",
       "25%    2005.250000     4.00000     8.000000        54.000000   1007.800000   \n",
       "50%    2011.500000     7.00000    16.000000        78.000000   1012.700000   \n",
       "75%    2017.000000    10.00000    23.000000        87.000000   1017.900000   \n",
       "max    2023.000000    12.00000    31.000000       100.000000   1035.800000   \n",
       "\n",
       "       TotalEvaporation  TotalRainfall  MeanHumidity  MinTemperature  \\\n",
       "count       8766.000000    8766.000000   8766.000000     8766.000000   \n",
       "mean           3.349139       5.552932     78.080995       19.558191   \n",
       "std            1.654657      18.054127     10.673137        5.879555   \n",
       "min            0.000000       0.000000     21.000000       -0.900000   \n",
       "25%            2.200000       0.000000     73.000000       15.500000   \n",
       "50%            3.200000       0.000000     79.000000       21.100000   \n",
       "75%            4.500000       1.500000     85.000000       24.600000   \n",
       "max           11.800000     340.500000     99.000000       28.900000   \n",
       "\n",
       "       MeanTemperature  MaxTemperature  MeanUVIndex  TotalSunshine  \\\n",
       "count      8766.000000     8766.000000  8766.000000    8766.000000   \n",
       "mean         22.884645       27.226586     2.880966       5.126717   \n",
       "std           5.482770        5.682727     1.528562       3.881934   \n",
       "min           3.600000        5.300000     0.100000       0.000000   \n",
       "25%          18.800000       23.400000     2.000000       1.000000   \n",
       "50%          24.200000       28.200000     3.000000       5.200000   \n",
       "75%          27.600000       31.900000     4.000000       8.900000   \n",
       "max          32.300000       38.500000     7.000000      12.400000   \n",
       "\n",
       "       MeanWindSpeed    IsExtreme  \n",
       "count    8766.000000  8766.000000  \n",
       "mean        7.180259     0.058293  \n",
       "std         3.248124     0.234311  \n",
       "min         0.700000     0.000000  \n",
       "25%         4.800000     0.000000  \n",
       "50%         6.500000     0.000000  \n",
       "75%         9.000000     0.000000  \n",
       "max        31.700000     1.000000  "
      ]
     },
     "execution_count": 7,
     "metadata": {},
     "output_type": "execute_result"
    }
   ],
   "source": [
    "df.describe()"
   ]
  },
  {
   "cell_type": "code",
   "execution_count": 4,
   "metadata": {},
   "outputs": [
    {
     "name": "stdout",
     "output_type": "stream",
     "text": [
      "<class 'pandas.core.frame.DataFrame'>\n",
      "RangeIndex: 8735 entries, 0 to 8734\n",
      "Data columns (total 16 columns):\n",
      " #   Column            Non-Null Count  Dtype  \n",
      "---  ------            --------------  -----  \n",
      " 0   Year              8735 non-null   int64  \n",
      " 1   Month             8735 non-null   int64  \n",
      " 2   Day               8735 non-null   int64  \n",
      " 3   Date              8735 non-null   object \n",
      " 4   MeanCloudAmount   8735 non-null   int64  \n",
      " 5   MeanPressure      8708 non-null   float64\n",
      " 6   TotalEvaporation  8665 non-null   float64\n",
      " 7   TotalRainfall     8552 non-null   float64\n",
      " 8   MeanHumidity      8695 non-null   float64\n",
      " 9   MinTemperature    8719 non-null   float64\n",
      " 10  MeanTemperature   8718 non-null   float64\n",
      " 11  MaxTemperature    8719 non-null   float64\n",
      " 12  MeanUVIndex       8729 non-null   float64\n",
      " 13  TotalSunshine     8735 non-null   float64\n",
      " 14  MeanWindSpeed     8731 non-null   float64\n",
      " 15  IsExtreme         8735 non-null   int64  \n",
      "dtypes: float64(10), int64(5), object(1)\n",
      "memory usage: 1.1+ MB\n"
     ]
    }
   ],
   "source": [
    "df.info()"
   ]
  },
  {
   "cell_type": "markdown",
   "metadata": {},
   "source": [
    "## Drop Null Values"
   ]
  },
  {
   "cell_type": "code",
   "execution_count": 5,
   "metadata": {},
   "outputs": [],
   "source": [
    "df.dropna(inplace=True)"
   ]
  },
  {
   "cell_type": "markdown",
   "metadata": {},
   "source": [
    "## Assign X and y"
   ]
  },
  {
   "cell_type": "code",
   "execution_count": 6,
   "metadata": {},
   "outputs": [],
   "source": [
    "X = df[['MeanCloudAmount', 'MeanPressure',\n",
    "        'TotalEvaporation', 'TotalRainfall', 'MeanHumidity', \n",
    "        'MinTemperature', 'MeanTemperature', 'MaxTemperature', \n",
    "        'MeanUVIndex', 'TotalSunshine', 'MeanWindSpeed']]\n",
    "y = df['IsExtreme']"
   ]
  },
  {
   "cell_type": "markdown",
   "metadata": {},
   "source": [
    "## Train Test Split"
   ]
  },
  {
   "cell_type": "code",
   "execution_count": 7,
   "metadata": {},
   "outputs": [],
   "source": [
    "X_train, X_test, y_train, y_test = train_test_split(X, y, test_size=0.2, random_state=RANDOM_STATE)"
   ]
  },
  {
   "cell_type": "markdown",
   "metadata": {},
   "source": [
    "## Run PCA"
   ]
  },
  {
   "cell_type": "code",
   "execution_count": 8,
   "metadata": {},
   "outputs": [
    {
     "data": {
      "text/plain": [
       "array([5.67492663e-01, 2.41564700e-01, 1.23714759e-01, 4.67045397e-02,\n",
       "       7.69715996e-03, 6.54930877e-03, 3.80562831e-03, 1.25431915e-03,\n",
       "       7.29864736e-04, 3.65385586e-04, 1.21671733e-04])"
      ]
     },
     "execution_count": 8,
     "metadata": {},
     "output_type": "execute_result"
    }
   ],
   "source": [
    "pca = PCA(n_components=len(X.columns))\n",
    "pca.fit(X)\n",
    "pca.explained_variance_ratio_"
   ]
  },
  {
   "cell_type": "markdown",
   "metadata": {},
   "source": [
    "## Examine the distribution of the output class"
   ]
  },
  {
   "cell_type": "code",
   "execution_count": 9,
   "metadata": {},
   "outputs": [
    {
     "data": {
      "text/plain": [
       "0.9439971584181861"
      ]
     },
     "execution_count": 9,
     "metadata": {},
     "output_type": "execute_result"
    }
   ],
   "source": [
    "dummy = DummyClassifier(strategy='most_frequent')\n",
    "dummy.fit(X, y)\n",
    "dummy.score(X, y)"
   ]
  },
  {
   "cell_type": "markdown",
   "metadata": {},
   "source": [
    "## Run a model to examine the results"
   ]
  },
  {
   "cell_type": "code",
   "execution_count": 10,
   "metadata": {},
   "outputs": [],
   "source": [
    "scaler = StandardScaler()\n",
    "X_train_scaled = scaler.fit_transform(X_train)"
   ]
  },
  {
   "cell_type": "code",
   "execution_count": 11,
   "metadata": {},
   "outputs": [],
   "source": [
    "# model 1\n",
    "# model = LogisticRegressionCV(scoring='recall', class_weight='balanced', \n",
    "#                                 n_jobs=-1, max_iter=1000, random_state=RANDOM_STATE)\n",
    "# model 2\n",
    "# rf = RandomForestClassifier(n_jobs=-1, random_state=RANDOM_STATE)\n",
    "# model = RandomizedSearchCV(rf, {'max_depth': [64, 128, None],\n",
    "#                                 'class_weight': [{0: 1, 1: 10}, 'balanced']}, \n",
    "#                                 scoring='recall')\n",
    "# model 3\n",
    "gb = GradientBoostingClassifier(random_state=RANDOM_STATE)\n",
    "model = RandomizedSearchCV(gb, {'learning_rate': [1e-4, 1e-3, 1e-2, 1e-1], \n",
    "                                'max_depth': [3, 10, None],\n",
    "                                'tol': [1e-5, 5e-5, 1e-4]}, \n",
    "                                scoring='recall')"
   ]
  },
  {
   "cell_type": "code",
   "execution_count": 12,
   "metadata": {},
   "outputs": [
    {
     "data": {
      "text/html": [
       "<style>#sk-container-id-1 {color: black;}#sk-container-id-1 pre{padding: 0;}#sk-container-id-1 div.sk-toggleable {background-color: white;}#sk-container-id-1 label.sk-toggleable__label {cursor: pointer;display: block;width: 100%;margin-bottom: 0;padding: 0.3em;box-sizing: border-box;text-align: center;}#sk-container-id-1 label.sk-toggleable__label-arrow:before {content: \"▸\";float: left;margin-right: 0.25em;color: #696969;}#sk-container-id-1 label.sk-toggleable__label-arrow:hover:before {color: black;}#sk-container-id-1 div.sk-estimator:hover label.sk-toggleable__label-arrow:before {color: black;}#sk-container-id-1 div.sk-toggleable__content {max-height: 0;max-width: 0;overflow: hidden;text-align: left;background-color: #f0f8ff;}#sk-container-id-1 div.sk-toggleable__content pre {margin: 0.2em;color: black;border-radius: 0.25em;background-color: #f0f8ff;}#sk-container-id-1 input.sk-toggleable__control:checked~div.sk-toggleable__content {max-height: 200px;max-width: 100%;overflow: auto;}#sk-container-id-1 input.sk-toggleable__control:checked~label.sk-toggleable__label-arrow:before {content: \"▾\";}#sk-container-id-1 div.sk-estimator input.sk-toggleable__control:checked~label.sk-toggleable__label {background-color: #d4ebff;}#sk-container-id-1 div.sk-label input.sk-toggleable__control:checked~label.sk-toggleable__label {background-color: #d4ebff;}#sk-container-id-1 input.sk-hidden--visually {border: 0;clip: rect(1px 1px 1px 1px);clip: rect(1px, 1px, 1px, 1px);height: 1px;margin: -1px;overflow: hidden;padding: 0;position: absolute;width: 1px;}#sk-container-id-1 div.sk-estimator {font-family: monospace;background-color: #f0f8ff;border: 1px dotted black;border-radius: 0.25em;box-sizing: border-box;margin-bottom: 0.5em;}#sk-container-id-1 div.sk-estimator:hover {background-color: #d4ebff;}#sk-container-id-1 div.sk-parallel-item::after {content: \"\";width: 100%;border-bottom: 1px solid gray;flex-grow: 1;}#sk-container-id-1 div.sk-label:hover label.sk-toggleable__label {background-color: #d4ebff;}#sk-container-id-1 div.sk-serial::before {content: \"\";position: absolute;border-left: 1px solid gray;box-sizing: border-box;top: 0;bottom: 0;left: 50%;z-index: 0;}#sk-container-id-1 div.sk-serial {display: flex;flex-direction: column;align-items: center;background-color: white;padding-right: 0.2em;padding-left: 0.2em;position: relative;}#sk-container-id-1 div.sk-item {position: relative;z-index: 1;}#sk-container-id-1 div.sk-parallel {display: flex;align-items: stretch;justify-content: center;background-color: white;position: relative;}#sk-container-id-1 div.sk-item::before, #sk-container-id-1 div.sk-parallel-item::before {content: \"\";position: absolute;border-left: 1px solid gray;box-sizing: border-box;top: 0;bottom: 0;left: 50%;z-index: -1;}#sk-container-id-1 div.sk-parallel-item {display: flex;flex-direction: column;z-index: 1;position: relative;background-color: white;}#sk-container-id-1 div.sk-parallel-item:first-child::after {align-self: flex-end;width: 50%;}#sk-container-id-1 div.sk-parallel-item:last-child::after {align-self: flex-start;width: 50%;}#sk-container-id-1 div.sk-parallel-item:only-child::after {width: 0;}#sk-container-id-1 div.sk-dashed-wrapped {border: 1px dashed gray;margin: 0 0.4em 0.5em 0.4em;box-sizing: border-box;padding-bottom: 0.4em;background-color: white;}#sk-container-id-1 div.sk-label label {font-family: monospace;font-weight: bold;display: inline-block;line-height: 1.2em;}#sk-container-id-1 div.sk-label-container {text-align: center;}#sk-container-id-1 div.sk-container {/* jupyter's `normalize.less` sets `[hidden] { display: none; }` but bootstrap.min.css set `[hidden] { display: none !important; }` so we also need the `!important` here to be able to override the default hidden behavior on the sphinx rendered scikit-learn.org. See: https://github.com/scikit-learn/scikit-learn/issues/21755 */display: inline-block !important;position: relative;}#sk-container-id-1 div.sk-text-repr-fallback {display: none;}</style><div id=\"sk-container-id-1\" class=\"sk-top-container\"><div class=\"sk-text-repr-fallback\"><pre>RandomizedSearchCV(estimator=GradientBoostingClassifier(random_state=4200),\n",
       "                   param_distributions={&#x27;learning_rate&#x27;: [0.0001, 0.001, 0.01,\n",
       "                                                          0.1],\n",
       "                                        &#x27;max_depth&#x27;: [3, 10, None],\n",
       "                                        &#x27;tol&#x27;: [1e-05, 5e-05, 0.0001]},\n",
       "                   scoring=&#x27;recall&#x27;)</pre><b>In a Jupyter environment, please rerun this cell to show the HTML representation or trust the notebook. <br />On GitHub, the HTML representation is unable to render, please try loading this page with nbviewer.org.</b></div><div class=\"sk-container\" hidden><div class=\"sk-item sk-dashed-wrapped\"><div class=\"sk-label-container\"><div class=\"sk-label sk-toggleable\"><input class=\"sk-toggleable__control sk-hidden--visually\" id=\"sk-estimator-id-1\" type=\"checkbox\" ><label for=\"sk-estimator-id-1\" class=\"sk-toggleable__label sk-toggleable__label-arrow\">RandomizedSearchCV</label><div class=\"sk-toggleable__content\"><pre>RandomizedSearchCV(estimator=GradientBoostingClassifier(random_state=4200),\n",
       "                   param_distributions={&#x27;learning_rate&#x27;: [0.0001, 0.001, 0.01,\n",
       "                                                          0.1],\n",
       "                                        &#x27;max_depth&#x27;: [3, 10, None],\n",
       "                                        &#x27;tol&#x27;: [1e-05, 5e-05, 0.0001]},\n",
       "                   scoring=&#x27;recall&#x27;)</pre></div></div></div><div class=\"sk-parallel\"><div class=\"sk-parallel-item\"><div class=\"sk-item\"><div class=\"sk-label-container\"><div class=\"sk-label sk-toggleable\"><input class=\"sk-toggleable__control sk-hidden--visually\" id=\"sk-estimator-id-2\" type=\"checkbox\" ><label for=\"sk-estimator-id-2\" class=\"sk-toggleable__label sk-toggleable__label-arrow\">estimator: GradientBoostingClassifier</label><div class=\"sk-toggleable__content\"><pre>GradientBoostingClassifier(random_state=4200)</pre></div></div></div><div class=\"sk-serial\"><div class=\"sk-item\"><div class=\"sk-estimator sk-toggleable\"><input class=\"sk-toggleable__control sk-hidden--visually\" id=\"sk-estimator-id-3\" type=\"checkbox\" ><label for=\"sk-estimator-id-3\" class=\"sk-toggleable__label sk-toggleable__label-arrow\">GradientBoostingClassifier</label><div class=\"sk-toggleable__content\"><pre>GradientBoostingClassifier(random_state=4200)</pre></div></div></div></div></div></div></div></div></div></div>"
      ],
      "text/plain": [
       "RandomizedSearchCV(estimator=GradientBoostingClassifier(random_state=4200),\n",
       "                   param_distributions={'learning_rate': [0.0001, 0.001, 0.01,\n",
       "                                                          0.1],\n",
       "                                        'max_depth': [3, 10, None],\n",
       "                                        'tol': [1e-05, 5e-05, 0.0001]},\n",
       "                   scoring='recall')"
      ]
     },
     "execution_count": 12,
     "metadata": {},
     "output_type": "execute_result"
    }
   ],
   "source": [
    "model.fit(X_train_scaled, y_train)"
   ]
  },
  {
   "cell_type": "code",
   "execution_count": 13,
   "metadata": {},
   "outputs": [
    {
     "data": {
      "text/plain": [
       "0.47115384615384615"
      ]
     },
     "execution_count": 13,
     "metadata": {},
     "output_type": "execute_result"
    }
   ],
   "source": [
    "# recall\n",
    "X_test_scaled = scaler.transform(X_test)\n",
    "model.score(X_test_scaled, y_test)"
   ]
  },
  {
   "cell_type": "code",
   "execution_count": 14,
   "metadata": {},
   "outputs": [
    {
     "name": "stdout",
     "output_type": "stream",
     "text": [
      "0.9568047337278106\n",
      "0.7299022698612863\n",
      "0.7299022698612863\n"
     ]
    }
   ],
   "source": [
    "# accuracy, balanced accuracy and roc/auc score\n",
    "y_pred = model.predict(X_test_scaled)\n",
    "print(accuracy_score(y_test, y_pred))\n",
    "print(balanced_accuracy_score(y_test, y_pred))\n",
    "print(roc_auc_score(y_test, y_pred))"
   ]
  },
  {
   "cell_type": "code",
   "execution_count": 15,
   "metadata": {},
   "outputs": [
    {
     "name": "stdout",
     "output_type": "stream",
     "text": [
      "[[1568   18]\n",
      " [  55   49]]\n"
     ]
    }
   ],
   "source": [
    "# confusion matrix\n",
    "print(confusion_matrix(y_test, y_pred))"
   ]
  }
 ],
 "metadata": {
  "kernelspec": {
   "display_name": "weather",
   "language": "python",
   "name": "python3"
  },
  "language_info": {
   "codemirror_mode": {
    "name": "ipython",
    "version": 3
   },
   "file_extension": ".py",
   "mimetype": "text/x-python",
   "name": "python",
   "nbconvert_exporter": "python",
   "pygments_lexer": "ipython3",
   "version": "3.12.1"
  }
 },
 "nbformat": 4,
 "nbformat_minor": 2
}
